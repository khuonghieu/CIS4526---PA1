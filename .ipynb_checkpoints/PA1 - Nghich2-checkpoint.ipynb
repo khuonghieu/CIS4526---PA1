{
 "cells": [
  {
   "cell_type": "code",
   "execution_count": 1,
   "metadata": {},
   "outputs": [],
   "source": [
    "import csv\n",
    "import numpy as np\n",
    "from sklearn import metrics\n",
    "import math\n",
    "import operator"
   ]
  },
  {
   "cell_type": "code",
   "execution_count": 2,
   "metadata": {},
   "outputs": [
    {
     "name": "stdout",
     "output_type": "stream",
     "text": [
      "15000 :train examples| 5000 :test examples| 15000 :dimension\n"
     ]
    }
   ],
   "source": [
    "# Read the data file\n",
    "szDatasetPath = './letter-recognition.data' # Put this file in the same place as this script\n",
    "listClasses = []\n",
    "listAttrs = []\n",
    "with open(szDatasetPath) as csvFile:\n",
    "    csvReader = csv.reader(csvFile, delimiter=',')\n",
    "    for row in csvReader:\n",
    "        listClasses.append(row[0])\n",
    "        listAttrs.append(list(map(float, row[1:])))\n",
    "# Generate the mapping from class name to integer IDs\n",
    "mapCls2Int = dict([(y, x) for x, y in enumerate(sorted(set(listClasses)))])\n",
    "# Store the dataset with numpy array\n",
    "dataX = np.array(listAttrs)\n",
    "dataY = np.array([mapCls2Int[cls] for cls in listClasses])\n",
    "# Split the dataset as the training set and test set\n",
    "nNumTrainingExamples = 15000\n",
    "trainX = dataX[:nNumTrainingExamples, :]\n",
    "trainY = dataY[:nNumTrainingExamples]\n",
    "testX = dataX[nNumTrainingExamples:, :]\n",
    "testY = dataY[nNumTrainingExamples:]\n",
    "\n",
    "\n",
    "num_train = nNumTrainingExamples\n",
    "num_test = len(dataX)-nNumTrainingExamples\n",
    "num_dims = trainY.shape[0]\n",
    "print(num_train,':train examples|',num_test,':test examples|',num_dims,':dimension')"
   ]
  },
  {
   "cell_type": "code",
   "execution_count": 3,
   "metadata": {},
   "outputs": [],
   "source": [
    "def compute_accuracy(test_y, pred_y):\n",
    "    accuracy = metrics.accuracy_score(test_y, pred_y)\n",
    "    return accuracy"
   ]
  },
  {
   "cell_type": "code",
   "execution_count": 4,
   "metadata": {},
   "outputs": [],
   "source": [
    "def euclideanDistance(instance1, instance2, length):\n",
    "    distance = 0\n",
    "    for x in range(length):\n",
    "        distance += pow((instance1[x] - instance2[x]), 2)\n",
    "    return math.sqrt(distance)"
   ]
  },
  {
   "cell_type": "code",
   "execution_count": 5,
   "metadata": {},
   "outputs": [],
   "source": [
    "def getNeighbors(trainingSet, testInstance, k):\n",
    "\tdistances = []\n",
    "\tlength = len(testInstance)-1\n",
    "\tfor x in range(len(trainingSet)):\n",
    "\t\tdist = euclideanDistance(testInstance, trainingSet[x], length)\n",
    "\t\tdistances.append((trainingSet[x], dist))\n",
    "\tdistances.sort(key=operator.itemgetter(1))\n",
    "\tneighbors = []\n",
    "\tfor x in range(k):\n",
    "\t\tneighbors.append(distances[x][0])\n",
    "\treturn neighbors"
   ]
  },
  {
   "cell_type": "code",
   "execution_count": 6,
   "metadata": {},
   "outputs": [],
   "source": [
    "def test_knn(train_x, train_y, test_x, num_nn):\n",
    "    for x in range(len(text_x)):\n",
    "        neighbors = getNeighbors(trainX, test_x[x], num_nn)\n",
    "        result = getResponse(neighbors)\n",
    "        pred_y.append(result)\n",
    "        print('> predicted=' + repr(result) + ', actual=' + repr(testSet[x][-1]))\n",
    "    accuracy = compute_accuracy(test_y,pred_y)\n",
    "    print('Accuracy: ',accuracy,'%')\n",
    "    return None"
   ]
  },
  {
   "cell_type": "code",
   "execution_count": 7,
   "metadata": {},
   "outputs": [],
   "source": [
    "def getResponse(neighbors):\n",
    "\tclassVotes = {}\n",
    "\tfor x in range(len(neighbors)):\n",
    "\t\tresponse = neighbors[x][-1]\n",
    "\t\tif response in classVotes:\n",
    "\t\t\tclassVotes[response] += 1\n",
    "\t\telse:\n",
    "\t\t\tclassVotes[response] = 1\n",
    "\tsortedVotes = sorted(classVotes.items(), key=operator.itemgetter(1), reverse=True)\n",
    "\treturn sortedVotes[0][0]"
   ]
  },
  {
   "cell_type": "code",
   "execution_count": null,
   "metadata": {},
   "outputs": [],
   "source": []
  },
  {
   "cell_type": "code",
   "execution_count": null,
   "metadata": {},
   "outputs": [],
   "source": []
  }
 ],
 "metadata": {
  "kernelspec": {
   "display_name": "Python 3",
   "language": "python",
   "name": "python3"
  },
  "language_info": {
   "codemirror_mode": {
    "name": "ipython",
    "version": 3
   },
   "file_extension": ".py",
   "mimetype": "text/x-python",
   "name": "python",
   "nbconvert_exporter": "python",
   "pygments_lexer": "ipython3",
   "version": "3.6.7"
  }
 },
 "nbformat": 4,
 "nbformat_minor": 2
}
